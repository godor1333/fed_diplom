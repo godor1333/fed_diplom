{
  "cells": [
    {
      "cell_type": "code",
      "execution_count": null,
      "metadata": {
        "id": "lbBh2SL7ZIPh"
      },
      "outputs": [],
      "source": [
        "import numpy as np\n",
        "import tensorflow as tf\n",
        "import tensorflow.keras as keras\n",
        "from tensorflow.keras import backend as K\n",
        "from tensorflow.keras import Sequential\n",
        "from tensorflow.keras.layers import Conv2D, Flatten, Dense, MaxPool2D\n",
        "from tensorflow.keras.utils import to_categorical\n",
        "\n",
        "\n",
        "import openfl.native as fx\n",
        "from openfl.federated import FederatedModel,FederatedDataSet\n",
        "tf.config.run_functions_eagerly(True)\n",
        "tf.random.set_seed(0)\n",
        "np.random.seed(0)"
      ]
    },
    {
      "cell_type": "code",
      "execution_count": null,
      "metadata": {
        "id": "-SI64UZ5ZIPh"
      },
      "outputs": [],
      "source": [
        "def test_intel_tensorflow():\n",
        "    \"\"\"\n",
        "    Check if Intel version of TensorFlow is installed\n",
        "    \"\"\"\n",
        "    import tensorflow as tf\n",
        "\n",
        "    print(\"We are using Tensorflow version {}\".format(tf.__version__))\n",
        "\n",
        "    major_version = int(tf.__version__.split(\".\")[0])\n",
        "    if major_version >= 2:\n",
        "        from tensorflow.python.util import _pywrap_util_port\n",
        "        print(\"Intel-optimizations (DNNL) enabled:\",\n",
        "              _pywrap_util_port.IsMklEnabled())\n",
        "    else:\n",
        "        print(\"Intel-optimizations (DNNL) enabled:\")\n",
        "\n",
        "test_intel_tensorflow()"
      ]
    },
    {
      "cell_type": "code",
      "execution_count": null,
      "metadata": {
        "id": "Wu2h7kOtZIPk"
      },
      "outputs": [],
      "source": [
        "from openfl.utilities.optimizers.keras import FedProxOptimizer"
      ]
    },
    {
      "cell_type": "code",
      "execution_count": null,
      "metadata": {
        "id": "W5h3JTnhZIPk"
      },
      "outputs": [],
      "source": [
        "def build_model(input_shape,\n",
        "                num_classes,\n",
        "                **kwargs):\n",
        "    \"\"\"\n",
        "    Define the model architecture.\n",
        "\n",
        "    Args:\n",
        "        input_shape (numpy.ndarray): The shape of the data\n",
        "        num_classes (int): The number of classes of the dataset\n",
        "\n",
        "    Returns:\n",
        "        tensorflow.python.keras.engine.sequential.Sequential: The model defined in Keras\n",
        "\n",
        "    \"\"\"\n",
        "    model = Sequential()\n",
        "    \n",
        "    model.add(tf.keras.Input(shape=input_shape))\n",
        "    model.add(Dense(num_classes, activation='softmax'))\n",
        "\n",
        "    model.compile(loss=keras.losses.categorical_crossentropy,\n",
        "                  optimizer=FedProxOptimizer(mu=1),\n",
        "                  metrics=['accuracy'])\n",
        "\n",
        "    return model   "
      ]
    },
    {
      "cell_type": "code",
      "execution_count": null,
      "metadata": {
        "id": "ZkQVTSfHZIPk"
      },
      "outputs": [],
      "source": [
        "#Create a federated model using the build model function and dataset\n",
        "fl_model = FederatedModel(build_model, data_loader=fl_data)"
      ]
    },
    {
      "cell_type": "code",
      "execution_count": null,
      "metadata": {
        "id": "85ElSty4ZIPl"
      },
      "outputs": [],
      "source": [
        "collaborator_models = fl_model.setup(num_collaborators=1000)\n",
        " \n",
        "collaborators = {f'col{col}':collaborator_models[col] for col in range(len(collaborator_models))}#, 'three':collaborator_models[2]}"
      ]
    },
    {
      "cell_type": "code",
      "execution_count": null,
      "metadata": {
        "id": "L0BRYmoXZIPl"
      },
      "outputs": [],
      "source": [
        "#Original MNIST dataset\n",
        "print(f'Original training data size: {len(train_images)}')\n",
        "print(f'Original validation data size: {len(valid_images)}\\n')\n",
        "\n",
        "#Collaborator one's data\n",
        "print(f'Collaborator one\\'s training data size: {len(collaborator_models[0].data_loader.X_train)}')\n",
        "print(f'Collaborator one\\'s validation data size: {len(collaborator_models[0].data_loader.X_valid)}\\n')\n",
        "\n",
        "#Collaborator two's data\n",
        "print(f'Collaborator two\\'s training data size: {len(collaborator_models[1].data_loader.X_train)}')\n",
        "print(f'Collaborator two\\'s validation data size: {len(collaborator_models[1].data_loader.X_valid)}\\n')\n",
        "\n",
        "#Collaborator three's data\n",
        "#print(f'Collaborator three\\'s training data size: {len(collaborator_models[2].data_loader.X_train)}')\n",
        "#print(f'Collaborator three\\'s validation data size: {len(collaborator_models[2].data_loader.X_valid)}')"
      ]
    },
    {
      "cell_type": "markdown",
      "metadata": {
        "id": "pJP6cfrBZIPm"
      },
      "source": [
        "We can see the current plan values by running the `fx.get_plan()` function"
      ]
    },
    {
      "cell_type": "code",
      "execution_count": null,
      "metadata": {
        "id": "mc8oMbbEZIPm"
      },
      "outputs": [],
      "source": [
        "#Get the current values of the plan. Each of these can be overridden\n",
        "import json\n",
        "print(json.dumps(fx.get_plan(), indent=4, sort_keys=True))"
      ]
    },
    {
      "cell_type": "markdown",
      "metadata": {
        "id": "Tv3hbbo2ZIPm"
      },
      "source": [
        "Now we are ready to run our experiment. If we want to pass in custom plan settings, we can easily do that with the `override_config` parameter"
      ]
    },
    {
      "cell_type": "code",
      "execution_count": null,
      "metadata": {
        "scrolled": true,
        "id": "c2b9Dtf7ZIPn"
      },
      "outputs": [],
      "source": [
        "#Run experiment, return trained FederatedModel\n",
        "final_fl_model = fx.run_experiment(collaborators,override_config={'aggregator.settings.rounds_to_train':5, 'collaborator.settings.opt_treatment': 'CONTINUE_GLOBAL'})"
      ]
    },
    {
      "cell_type": "code",
      "execution_count": null,
      "metadata": {
        "id": "gDdgR2cTZIPn"
      },
      "outputs": [],
      "source": [
        "#Save final model and load into keras\n",
        "final_fl_model.save_native('final_model')\n",
        "model = tf.keras.models.load_model('./final_model')"
      ]
    },
    {
      "cell_type": "code",
      "execution_count": null,
      "metadata": {
        "id": "ebhKck04ZIPn"
      },
      "outputs": [],
      "source": [
        "#Test the final model on our test set\n",
        "model.evaluate(test_images,test_labels)"
      ]
    },
    {
      "cell_type": "code",
      "execution_count": null,
      "metadata": {
        "id": "QkZjfAXzZIPn"
      },
      "outputs": [],
      "source": [
        "import matplotlib.pyplot as plt\n",
        "import numpy as np\n",
        "\n",
        "\n",
        "plt.plot([0.07627802075538784, 0.07518334008473902, 0.09541350667830556, 0.13141966053564103, 0.15887578643299638], label='FedAvg')\n",
        "plt.plot([0.07627802075538784, 0.07518334008473902, 0.09541350667830556, 0.1314459763141349, 0.15887578643299638], linestyle='--', label='FedProx (mu=1e-2)')\n",
        "plt.plot([0.07627802075538784, 0.0751056043850258, 0.09555227747093886, 0.131649036151357, 0.15966261748969554], linestyle='--', label='FedProx (mu=1e-1)')\n",
        "plt.plot([0.07627802075538784, 0.07517912408802659, 0.09641592293512076, 0.13676991989742965, 0.1684917744528502], linestyle='--', label='FedProx (mu=1e1)')\n",
        "\n",
        "plt.legend()\n",
        "plt.xticks(range(5))\n",
        "plt.show()"
      ]
    },
    {
      "cell_type": "code",
      "execution_count": null,
      "metadata": {
        "id": "c857ABLaZIPo"
      },
      "outputs": [],
      "source": [
        ""
      ]
    }
  ],
  "metadata": {
    "kernelspec": {
      "display_name": "Python 3",
      "language": "python",
      "name": "python3"
    },
    "language_info": {
      "codemirror_mode": {
        "name": "ipython",
        "version": 3
      },
      "file_extension": ".py",
      "mimetype": "text/x-python",
      "name": "python",
      "nbconvert_exporter": "python",
      "pygments_lexer": "ipython3",
      "version": "3.8.8"
    },
    "colab": {
      "name": "fed.ipynb",
      "provenance": []
    }
  },
  "nbformat": 4,
  "nbformat_minor": 0
}